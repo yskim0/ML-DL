{
 "cells": [
  {
   "cell_type": "code",
   "execution_count": 56,
   "metadata": {},
   "outputs": [
    {
     "data": {
      "text/plain": [
       "'2.0.0'"
      ]
     },
     "execution_count": 56,
     "metadata": {},
     "output_type": "execute_result"
    }
   ],
   "source": [
    "import tensorflow as tf\n",
    "from tensorflow import keras\n",
    "tf.__version__"
   ]
  },
  {
   "cell_type": "code",
   "execution_count": 3,
   "metadata": {},
   "outputs": [],
   "source": [
    "import matplotlib.pyplot as plt"
   ]
  },
  {
   "cell_type": "code",
   "execution_count": 40,
   "metadata": {},
   "outputs": [
    {
     "name": "stdout",
     "output_type": "stream",
     "text": [
      "0 tf.Tensor(0.03758682, shape=(), dtype=float32)\n",
      "1 tf.Tensor(0.010691299, shape=(), dtype=float32)\n",
      "2 tf.Tensor(0.0030410923, shape=(), dtype=float32)\n",
      "3 tf.Tensor(0.0008650279, shape=(), dtype=float32)\n",
      "4 tf.Tensor(0.00024606145, shape=(), dtype=float32)\n",
      "5 tf.Tensor(6.998882e-05, shape=(), dtype=float32)\n",
      "6 tf.Tensor(1.9906282e-05, shape=(), dtype=float32)\n",
      "7 tf.Tensor(5.6621607e-06, shape=(), dtype=float32)\n",
      "8 tf.Tensor(1.6105648e-06, shape=(), dtype=float32)\n",
      "9 tf.Tensor(4.5797532e-07, shape=(), dtype=float32)\n",
      "10 tf.Tensor(1.3027928e-07, shape=(), dtype=float32)\n",
      "11 tf.Tensor(3.692078e-08, shape=(), dtype=float32)\n",
      "12 tf.Tensor(1.0524559e-08, shape=(), dtype=float32)\n",
      "13 tf.Tensor(2.999471e-09, shape=(), dtype=float32)\n",
      "14 tf.Tensor(8.6663476e-10, shape=(), dtype=float32)\n",
      "15 tf.Tensor(2.407461e-10, shape=(), dtype=float32)\n",
      "16 tf.Tensor(7.021583e-11, shape=(), dtype=float32)\n",
      "17 tf.Tensor(1.9895197e-11, shape=(), dtype=float32)\n",
      "18 tf.Tensor(5.4143356e-12, shape=(), dtype=float32)\n",
      "19 tf.Tensor(1.5489832e-12, shape=(), dtype=float32)\n",
      "20 tf.Tensor(7.9580786e-13, shape=(), dtype=float32)\n"
     ]
    }
   ],
   "source": [
    "# 스레기\n",
    "# \n",
    "#\n",
    "#\n",
    "\n",
    "x_data = [1,2,3]\n",
    "y_data = [1,2,3]\n",
    "\n",
    "W = tf.Variable(tf.random.normal([1]),name='weight')\n",
    "\n",
    "def gradient_descent(W, X, Y):\n",
    "    lr = 0.1\n",
    "    gradient = tf.reduce_mean((W*X-Y)*X)\n",
    "    descent = W - lr*gradient\n",
    "    update = W.assign(descent)\n",
    "    return update\n",
    "\n",
    "for step in range(21):\n",
    "    gradient_descent(W=W, X=x_data, Y=y_data)\n",
    "    cost = tf.reduce_sum(tf.square(x_data * W - y_data))\n",
    "    print(step, cost)"
   ]
  },
  {
   "cell_type": "code",
   "execution_count": 54,
   "metadata": {
    "scrolled": true
   },
   "outputs": [
    {
     "name": "stdout",
     "output_type": "stream",
     "text": [
      "0 2.50244522 [0.577216268]\n",
      "1 0.711806297 [0.77451539]\n",
      "2 0.202469423 [0.879741549]\n",
      "3 0.057591185 [0.935862184]\n",
      "4 0.0163815357 [0.965793133]\n",
      "5 0.00465962803 [0.98175633]\n",
      "6 0.00132542255 [0.99027]\n",
      "7 0.000376999902 [0.9948107]\n",
      "8 0.000107237269 [0.997232378]\n",
      "9 3.05021058e-05 [0.998523951]\n",
      "10 8.67526e-06 [0.999212801]\n",
      "11 2.46789637e-06 [0.999580145]\n",
      "12 7.02134287e-07 [0.999776065]\n",
      "13 1.9974857e-07 [0.999880552]\n",
      "14 5.68614276e-08 [0.999936283]\n",
      "15 1.61841882e-08 [0.999966]\n",
      "16 4.59658622e-09 [0.99998188]\n",
      "17 1.31224454e-09 [0.999990344]\n",
      "18 3.6421e-10 [0.999994874]\n",
      "19 1.03298703e-10 [0.999997258]\n",
      "20 3.16227045e-11 [0.99999851]\n",
      "21 8.68638494e-12 [0.999999225]\n",
      "22 2.29150032e-12 [0.999999583]\n",
      "23 7.95807864e-13 [0.999999762]\n",
      "24 2.98427949e-13 [0.999999881]\n",
      "25 7.46069873e-14 [0.99999994]\n",
      "26 0 [1]\n",
      "27 0 [1]\n",
      "28 0 [1]\n",
      "29 0 [1]\n",
      "30 0 [1]\n",
      "31 0 [1]\n",
      "32 0 [1]\n",
      "33 0 [1]\n",
      "34 0 [1]\n",
      "35 0 [1]\n",
      "36 0 [1]\n",
      "37 0 [1]\n",
      "38 0 [1]\n",
      "39 0 [1]\n",
      "40 0 [1]\n",
      "41 0 [1]\n",
      "42 0 [1]\n",
      "43 0 [1]\n",
      "44 0 [1]\n",
      "45 0 [1]\n",
      "46 0 [1]\n",
      "47 0 [1]\n",
      "48 0 [1]\n",
      "49 0 [1]\n",
      "50 0 [1]\n",
      "51 0 [1]\n",
      "52 0 [1]\n",
      "53 0 [1]\n",
      "54 0 [1]\n",
      "55 0 [1]\n",
      "56 0 [1]\n",
      "57 0 [1]\n",
      "58 0 [1]\n",
      "59 0 [1]\n",
      "60 0 [1]\n",
      "61 0 [1]\n",
      "62 0 [1]\n",
      "63 0 [1]\n",
      "64 0 [1]\n",
      "65 0 [1]\n",
      "66 0 [1]\n",
      "67 0 [1]\n",
      "68 0 [1]\n",
      "69 0 [1]\n",
      "70 0 [1]\n",
      "71 0 [1]\n",
      "72 0 [1]\n",
      "73 0 [1]\n",
      "74 0 [1]\n",
      "75 0 [1]\n",
      "76 0 [1]\n",
      "77 0 [1]\n",
      "78 0 [1]\n",
      "79 0 [1]\n",
      "80 0 [1]\n",
      "81 0 [1]\n",
      "82 0 [1]\n",
      "83 0 [1]\n",
      "84 0 [1]\n",
      "85 0 [1]\n",
      "86 0 [1]\n",
      "87 0 [1]\n",
      "88 0 [1]\n",
      "89 0 [1]\n",
      "90 0 [1]\n",
      "91 0 [1]\n",
      "92 0 [1]\n",
      "93 0 [1]\n",
      "94 0 [1]\n",
      "95 0 [1]\n",
      "96 0 [1]\n",
      "97 0 [1]\n",
      "98 0 [1]\n",
      "99 0 [1]\n"
     ]
    }
   ],
   "source": [
    "x_data = [1,2,3]\n",
    "y_data = [1,2,3]\n",
    "\n",
    "W = tf.Variable(tf.random.normal([1]),name='weight')\n",
    "\n",
    "\n",
    "def gradient_descent(X, Y):\n",
    "    lr = 0.1\n",
    "    gradient = tf.reduce_mean((W*X-Y)*X)\n",
    "    descent = W - lr*gradient\n",
    "    update = W.assign(descent)\n",
    "    return update\n",
    "\n",
    "for step in range(100):\n",
    "    W = gradient_descent(X=x_data, Y=y_data)\n",
    "    cost = tf.reduce_sum(tf.square(x_data * W - y_data))\n",
    "    tf.print(step, cost, W)"
   ]
  },
  {
   "cell_type": "code",
   "execution_count": 66,
   "metadata": {},
   "outputs": [],
   "source": [
    "from tensorflow.python.keras.optimizers import Adam\n",
    "import random"
   ]
  },
  {
   "cell_type": "code",
   "execution_count": 76,
   "metadata": {
    "scrolled": true
   },
   "outputs": [
    {
     "ename": "TypeError",
     "evalue": "'tensorflow.python.framework.ops.EagerTensor' object is not callable",
     "output_type": "error",
     "traceback": [
      "\u001b[0;31m---------------------------------------------------------------------------\u001b[0m",
      "\u001b[0;31mTypeError\u001b[0m                                 Traceback (most recent call last)",
      "\u001b[0;32m<ipython-input-76-81f15a71a7af>\u001b[0m in \u001b[0;36m<module>\u001b[0;34m\u001b[0m\n\u001b[1;32m      7\u001b[0m \u001b[0;31m#optimizer2.minimizer\u001b[0m\u001b[0;34m\u001b[0m\u001b[0;34m\u001b[0m\u001b[0;34m\u001b[0m\u001b[0m\n\u001b[1;32m      8\u001b[0m \u001b[0mloss\u001b[0m \u001b[0;34m=\u001b[0m \u001b[0mtf\u001b[0m\u001b[0;34m.\u001b[0m\u001b[0mreduce_sum\u001b[0m\u001b[0;34m(\u001b[0m\u001b[0mtf\u001b[0m\u001b[0;34m.\u001b[0m\u001b[0msquare\u001b[0m\u001b[0;34m(\u001b[0m\u001b[0mx_data\u001b[0m \u001b[0;34m*\u001b[0m \u001b[0mW\u001b[0m \u001b[0;34m-\u001b[0m \u001b[0my_data\u001b[0m\u001b[0;34m)\u001b[0m\u001b[0;34m)\u001b[0m\u001b[0;34m\u001b[0m\u001b[0;34m\u001b[0m\u001b[0m\n\u001b[0;32m----> 9\u001b[0;31m \u001b[0moptimizer2\u001b[0m\u001b[0;34m.\u001b[0m\u001b[0mminimize\u001b[0m\u001b[0;34m(\u001b[0m\u001b[0mloss\u001b[0m\u001b[0;34m=\u001b[0m\u001b[0mloss\u001b[0m\u001b[0;34m,\u001b[0m\u001b[0mvar_list\u001b[0m\u001b[0;34m=\u001b[0m\u001b[0;34m[\u001b[0m\u001b[0mW\u001b[0m\u001b[0;34m]\u001b[0m\u001b[0;34m)\u001b[0m\u001b[0;34m\u001b[0m\u001b[0;34m\u001b[0m\u001b[0m\n\u001b[0m",
      "\u001b[0;32m~/opt/anaconda3/lib/python3.7/site-packages/tensorflow_core/python/keras/optimizer_v2/optimizer_v2.py\u001b[0m in \u001b[0;36mminimize\u001b[0;34m(self, loss, var_list, grad_loss, name)\u001b[0m\n\u001b[1;32m    315\u001b[0m     \"\"\"\n\u001b[1;32m    316\u001b[0m     grads_and_vars = self._compute_gradients(\n\u001b[0;32m--> 317\u001b[0;31m         loss, var_list=var_list, grad_loss=grad_loss)\n\u001b[0m\u001b[1;32m    318\u001b[0m \u001b[0;34m\u001b[0m\u001b[0m\n\u001b[1;32m    319\u001b[0m     \u001b[0;32mreturn\u001b[0m \u001b[0mself\u001b[0m\u001b[0;34m.\u001b[0m\u001b[0mapply_gradients\u001b[0m\u001b[0;34m(\u001b[0m\u001b[0mgrads_and_vars\u001b[0m\u001b[0;34m,\u001b[0m \u001b[0mname\u001b[0m\u001b[0;34m=\u001b[0m\u001b[0mname\u001b[0m\u001b[0;34m)\u001b[0m\u001b[0;34m\u001b[0m\u001b[0;34m\u001b[0m\u001b[0m\n",
      "\u001b[0;32m~/opt/anaconda3/lib/python3.7/site-packages/tensorflow_core/python/keras/optimizer_v2/optimizer_v2.py\u001b[0m in \u001b[0;36m_compute_gradients\u001b[0;34m(self, loss, var_list, grad_loss)\u001b[0m\n\u001b[1;32m    349\u001b[0m       \u001b[0;32mif\u001b[0m \u001b[0;32mnot\u001b[0m \u001b[0mcallable\u001b[0m\u001b[0;34m(\u001b[0m\u001b[0mvar_list\u001b[0m\u001b[0;34m)\u001b[0m\u001b[0;34m:\u001b[0m\u001b[0;34m\u001b[0m\u001b[0;34m\u001b[0m\u001b[0m\n\u001b[1;32m    350\u001b[0m         \u001b[0mtape\u001b[0m\u001b[0;34m.\u001b[0m\u001b[0mwatch\u001b[0m\u001b[0;34m(\u001b[0m\u001b[0mvar_list\u001b[0m\u001b[0;34m)\u001b[0m\u001b[0;34m\u001b[0m\u001b[0;34m\u001b[0m\u001b[0m\n\u001b[0;32m--> 351\u001b[0;31m       \u001b[0mloss_value\u001b[0m \u001b[0;34m=\u001b[0m \u001b[0mloss\u001b[0m\u001b[0;34m(\u001b[0m\u001b[0;34m)\u001b[0m\u001b[0;34m\u001b[0m\u001b[0;34m\u001b[0m\u001b[0m\n\u001b[0m\u001b[1;32m    352\u001b[0m     \u001b[0;32mif\u001b[0m \u001b[0mcallable\u001b[0m\u001b[0;34m(\u001b[0m\u001b[0mvar_list\u001b[0m\u001b[0;34m)\u001b[0m\u001b[0;34m:\u001b[0m\u001b[0;34m\u001b[0m\u001b[0;34m\u001b[0m\u001b[0m\n\u001b[1;32m    353\u001b[0m       \u001b[0mvar_list\u001b[0m \u001b[0;34m=\u001b[0m \u001b[0mvar_list\u001b[0m\u001b[0;34m(\u001b[0m\u001b[0;34m)\u001b[0m\u001b[0;34m\u001b[0m\u001b[0;34m\u001b[0m\u001b[0m\n",
      "\u001b[0;31mTypeError\u001b[0m: 'tensorflow.python.framework.ops.EagerTensor' object is not callable"
     ]
    }
   ],
   "source": [
    "x_data = [1,2,3]\n",
    "y_data = [1,2,3]\n",
    "\n",
    "W = tf.Variable(tf.random.normal([1]),name='weight')\n",
    "\n",
    "optimizer2 = tf.keras.optimizers.Adam()\n",
    "#optimizer2.minimizer\n",
    "loss = tf.reduce_sum(tf.square(x_data * W - y_data))\n",
    "optimizer2.minimize(loss=loss,var_list=[W])\n",
    "\n",
    "#https://www.tensorflow.org/tutorials/customization/custom_training?hl=ko\n",
    "#참고하면서 내일 하자\n"
   ]
  },
  {
   "cell_type": "code",
   "execution_count": 26,
   "metadata": {
    "scrolled": true
   },
   "outputs": [
    {
     "name": "stdout",
     "output_type": "stream",
     "text": [
      "0 0.133220747 0.831040502\n",
      "1 0.117946289 0.841021359\n",
      "2 0.103648208 0.850968719\n",
      "3 0.0903376937 0.860866666\n",
      "4 0.0780219808 0.870698035\n",
      "5 0.0667034313 0.880444169\n",
      "6 0.056379769 0.890084684\n",
      "7 0.0470427275 0.899597883\n",
      "8 0.0386783592 0.908960342\n",
      "9 0.031266015 0.918147326\n",
      "10 0.0247783512 0.927132666\n",
      "11 0.019181069 0.935888946\n",
      "12 0.0144326948 0.944387794\n",
      "13 0.0104848063 0.952600181\n",
      "14 0.00728233531 0.960496843\n",
      "15 0.00476419227 0.968048513\n",
      "16 0.00286400202 0.97522676\n",
      "17 0.00151127239 0.982004344\n",
      "18 0.000632725132 0.988355935\n",
      "19 0.000153823188 0.994258761\n",
      "20 4.39383825e-07 0.999693155\n",
      "21 0.000100610174 1.0046432\n",
      "22 0.00038618804 1.00909698\n",
      "23 0.000794423802 1.01304734\n",
      "24 0.00126925134 1.01649189\n",
      "25 0.00176233088 1.01943302\n",
      "26 0.00223368639 1.021878\n",
      "27 0.0026520032 1.02383876\n",
      "28 0.0029945632 1.02533162\n",
      "29 0.00324678305 1.02637684\n",
      "30 0.00340159051 1.0269984\n",
      "31 0.0034584559 1.02722311\n",
      "32 0.00342232548 1.02708054\n",
      "33 0.00330250966 1.02660227\n",
      "34 0.0031114642 1.02582133\n",
      "35 0.00286371447 1.02477205\n",
      "36 0.00257478608 1.02348912\n",
      "37 0.00226022955 1.02200758\n",
      "38 0.00193487795 1.02036214\n",
      "39 0.0016122685 1.01858723\n",
      "40 0.00130400492 1.01671612\n",
      "41 0.00101958355 1.01478112\n",
      "42 0.000766122888 1.01281285\n",
      "43 0.000548386946 1.0108403\n",
      "44 0.000368856621 1.00889051\n",
      "45 0.00022790207 1.00698829\n",
      "46 0.000124069134 1.00515616\n",
      "47 5.43921451e-05 1.00341403\n",
      "48 1.47745368e-05 1.00177932\n",
      "49 3.31926685e-07 1.00026667\n",
      "50 5.77037508e-06 0.998888\n",
      "51 2.57146039e-05 0.99765259\n",
      "52 5.50039222e-05 0.996566832\n",
      "53 8.89272487e-05 0.995634675\n",
      "54 0.000123417019 0.994857371\n",
      "55 0.000155154747 0.994233966\n",
      "56 0.00018164271 0.993761122\n",
      "57 0.000201218703 0.993433535\n",
      "58 0.000212992367 0.993244171\n",
      "59 0.000216787055 0.993184268\n",
      "60 0.000213013322 0.993243814\n",
      "61 0.000202560797 0.99341166\n",
      "62 0.00018664253 0.993675828\n",
      "63 0.000166673868 0.99402374\n",
      "64 0.000144139442 0.994442403\n",
      "65 0.000120492536 0.994918704\n",
      "66 9.70497567e-05 0.995439708\n",
      "67 7.49436367e-05 0.995992601\n",
      "68 5.50567311e-05 0.996565223\n",
      "69 3.80143756e-05 0.997145891\n",
      "70 2.41780235e-05 0.997723818\n",
      "71 1.36611916e-05 0.998289049\n",
      "72 6.35872129e-06 0.998832703\n",
      "73 1.99008241e-06 0.999347\n",
      "74 1.42679085e-07 0.99982512\n",
      "75 3.19456149e-07 1.00026166\n",
      "76 1.98572525e-06 1.00065231\n",
      "77 4.60965975e-06 1.00099385\n",
      "78 7.6980532e-06 1.00128436\n",
      "79 1.08226659e-05 1.0015229\n",
      "80 1.36395129e-05 1.00170958\n",
      "81 1.58916464e-05 1.00184536\n",
      "82 1.74241231e-05 1.00193226\n",
      "83 1.81644809e-05 1.00197291\n",
      "84 1.81223277e-05 1.00197065\n",
      "85 1.73725639e-05 1.0019294\n",
      "86 1.60290656e-05 1.00185335\n",
      "87 1.42448507e-05 1.00174713\n",
      "88 1.21796211e-05 1.00161552\n",
      "89 9.99403255e-06 1.00146341\n",
      "90 7.83471569e-06 1.00129569\n",
      "91 5.82343137e-06 1.00111711\n",
      "92 4.0567229e-06 1.00093234\n",
      "93 2.59448893e-06 1.00074565\n",
      "94 1.4686924e-06 1.000561\n",
      "95 6.813043e-07 1.00038207\n",
      "96 2.09833217e-07 1.00021207\n",
      "97 1.34761962e-08 1.00005376\n",
      "98 3.83661103e-08 0.999909341\n",
      "99 2.2452393e-07 0.999780655\n"
     ]
    }
   ],
   "source": [
    "import tensorflow as tf\n",
    "import random\n",
    "\n",
    "x_data = [1,2,3]\n",
    "y_data = [1,2,3]\n",
    "\n",
    "W2 = tf.Variable(random.random())\n",
    "\n",
    "def cost():\n",
    "    hypothesis = x_data * W2\n",
    "    cost = tf.reduce_mean(tf.square(hypothesis-y_data))\n",
    "    return cost\n",
    "\n",
    "optimizer3 = tf.optimizers.Adam(lr=0.01)\n",
    "\n",
    "for step in range(100):\n",
    "    optimizer3.minimize(cost,var_list=[W2])\n",
    "    tf.print(step, cost(), W2)\n",
    "    \n",
    "\n",
    "    #https://www.tensorflow.org/tutorials/customization/custom_training?hl=ko\n",
    "#참고하면서 내일 하자\n"
   ]
  },
  {
   "cell_type": "code",
   "execution_count": 15,
   "metadata": {},
   "outputs": [],
   "source": [
    "from __future__ import absolute_import, division, print_function, unicode_literals\n",
    "\n",
    "import tensorflow as tf"
   ]
  },
  {
   "cell_type": "code",
   "execution_count": 18,
   "metadata": {},
   "outputs": [
    {
     "data": {
      "text/plain": [
       "array([[8., 8.],\n",
       "       [8., 8.]], dtype=float32)"
      ]
     },
     "execution_count": 18,
     "metadata": {},
     "output_type": "execute_result"
    }
   ],
   "source": [
    "x = tf.ones((2, 2))\n",
    "\n",
    "with tf.GradientTape() as t:\n",
    "  t.watch(x)\n",
    "  y = tf.reduce_sum(x)\n",
    "  z = tf.multiply(y, y)\n",
    "\n",
    "# 입력 텐서 x에 대한 z의 도함수\n",
    "dz_dx = t.gradient(z, x)\n",
    "for i in [0, 1]:\n",
    "  for j in [0, 1]:\n",
    "    assert dz_dx[i][j].numpy() == 8.0\n",
    "dz_dx.numpy()"
   ]
  },
  {
   "cell_type": "code",
   "execution_count": null,
   "metadata": {},
   "outputs": [],
   "source": []
  },
  {
   "cell_type": "code",
   "execution_count": null,
   "metadata": {},
   "outputs": [],
   "source": []
  }
 ],
 "metadata": {
  "kernelspec": {
   "display_name": "Python 3",
   "language": "python",
   "name": "python3"
  },
  "language_info": {
   "codemirror_mode": {
    "name": "ipython",
    "version": 3
   },
   "file_extension": ".py",
   "mimetype": "text/x-python",
   "name": "python",
   "nbconvert_exporter": "python",
   "pygments_lexer": "ipython3",
   "version": "3.7.4"
  }
 },
 "nbformat": 4,
 "nbformat_minor": 2
}

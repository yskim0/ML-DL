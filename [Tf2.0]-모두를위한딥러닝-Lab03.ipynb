{
 "cells": [
  {
   "cell_type": "code",
   "execution_count": 1,
   "metadata": {},
   "outputs": [],
   "source": [
    "import tensorflow as tf"
   ]
  },
  {
   "cell_type": "code",
   "execution_count": 39,
   "metadata": {
    "scrolled": true
   },
   "outputs": [
    {
     "name": "stdout",
     "output_type": "stream",
     "text": [
      "0 \n",
      " 8843.562 \n",
      " [68.89942 83.8136  82.0606  88.41435 65.14547]\n",
      "100 \n",
      " 8795.119 \n",
      " [69.12841 84.08859 82.33159 88.70934 65.35547]\n",
      "200 \n",
      " 8746.9 \n",
      " [69.35698  84.36307  82.60208  89.003784 65.56507 ]\n",
      "300 \n",
      " 8698.895 \n",
      " [69.585175 84.6371   82.872116 89.29774  65.77432 ]\n",
      "400 \n",
      " 8651.064 \n",
      " [69.81314  84.910866 83.1419   89.591415 65.98338 ]\n",
      "500 \n",
      " 8603.387 \n",
      " [70.041016 85.18451  83.411575 89.884964 66.192345]\n",
      "600 \n",
      " 8555.905 \n",
      " [70.26858  85.457794 83.68087  90.17811  66.40105 ]\n",
      "700 \n",
      " 8508.635 \n",
      " [70.49576  85.730606 83.949715 90.47077  66.60937 ]\n",
      "800 \n",
      " 8461.559 \n",
      " [70.72265 86.00305 84.21821 90.76305 66.81741]\n",
      "900 \n",
      " 8414.662 \n",
      " [70.94928 86.27522 84.48641 91.05499 67.02525]\n",
      "1000 \n",
      " 8367.912 \n",
      " [71.17584 86.54729 84.75453 91.34685 67.23302]\n",
      "1100 \n",
      " 8321.321 \n",
      " [71.40226  86.8192   85.022484 91.63854  67.44065 ]\n",
      "1200 \n",
      " 8274.906 \n",
      " [71.62845  87.090836 85.29015  91.92992  67.6481  ]\n",
      "1300 \n",
      " 8228.69 \n",
      " [71.85431  87.36206  85.557434 92.22088  67.85522 ]\n",
      "1400 \n",
      " 8182.6553 \n",
      " [72.079926 87.63297  85.82443  92.511505 68.06209 ]\n",
      "1500 \n",
      " 8136.7983 \n",
      " [72.30529  87.90361  86.09112  92.80183  68.268745]\n",
      "1600 \n",
      " 8091.093 \n",
      " [72.53054 88.17411 86.35769 93.092   68.47532]\n",
      "1700 \n",
      " 8045.5273 \n",
      " [72.755745 88.44455  86.6242   93.3821   68.68183 ]\n",
      "1800 \n",
      " 8000.1 \n",
      " [72.980896 88.71493  86.89063  93.67214  68.8883  ]\n",
      "1900 \n",
      " 7954.845 \n",
      " [73.20582  88.98504  87.15682  93.96189  69.094574]\n",
      "2000 \n",
      " 7909.7437 \n",
      " [73.43062  89.25502  87.42286  94.251495 69.30074 ]\n"
     ]
    }
   ],
   "source": [
    "import tensorflow as tf\n",
    "import random \n",
    "\n",
    "x1_data = [73., 93., 89., 96., 73.]\n",
    "x2_data = [80., 88., 91.,98.,66.]\n",
    "x3_data = [75.,93.,90.,100.,70.]\n",
    "y_data = [152.,185.,180.,196.,142.]\n",
    "\n",
    "w1 = tf.Variable(random.random())\n",
    "w2 = tf.Variable(random.random())\n",
    "w3 = tf.Variable(random.random())\n",
    "b = tf.Variable(random.random())\n",
    "\n",
    "@tf.function\n",
    "def hypothesis():\n",
    "    hypo = x1_data * w1 + x2_data * w2 + x3_data * w3 + b\n",
    "    return hypo\n",
    "\n",
    "@tf.function\n",
    "def cost():\n",
    "    hypothesis = x1_data * w1 + x2_data * w2 + x3_data * w3 + b\n",
    "    cost = tf.reduce_mean(tf.square(hypothesis-y_data))\n",
    "    return cost\n",
    "\n",
    "opt = tf.optimizers.Adam(lr=1e-5)\n",
    "for step in range(2001):\n",
    "    opt.minimize(cost, var_list=[w1,w2,w3,b])\n",
    "    hypo = hypothesis()\n",
    "    if step%100 ==0:\n",
    "        print(step,\"\\n\", cost().numpy(),\"\\n\", hypo.numpy())\n",
    "\n"
   ]
  }
 ],
 "metadata": {
  "kernelspec": {
   "display_name": "Python 3",
   "language": "python",
   "name": "python3"
  },
  "language_info": {
   "codemirror_mode": {
    "name": "ipython",
    "version": 3
   },
   "file_extension": ".py",
   "mimetype": "text/x-python",
   "name": "python",
   "nbconvert_exporter": "python",
   "pygments_lexer": "ipython3",
   "version": "3.7.4"
  }
 },
 "nbformat": 4,
 "nbformat_minor": 2
}
